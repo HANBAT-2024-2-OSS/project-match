{
  "nbformat": 4,
  "nbformat_minor": 0,
  "metadata": {
    "colab": {
      "provenance": []
    },
    "kernelspec": {
      "name": "python3",
      "display_name": "Python 3"
    },
    "language_info": {
      "name": "python"
    }
  },
  "cells": [
    {
      "cell_type": "markdown",
      "source": [
        "3. 리그형식 경기 경우의 수 분석\n",
        "\n",
        "리그 경기에서 특정 순위 안으로 들어가려면 특정팀이 몇번 이겨야 하는지 다른 팀들은 경기 결과에 어떻게 나와야 하는지 보여주는 기능"
      ],
      "metadata": {
        "id": "kTvOuQfUXXwQ"
      }
    },
    {
      "cell_type": "code",
      "source": [
        "def simulate_league(teams, target_team, target_rank, additional_wins, num_simulations=1000):\n",
        "    \"\"\"\n",
        "    리그 시뮬레이션 함수\n",
        "\n",
        "    Args:\n",
        "        teams (pd.DataFrame): 팀 정보 DataFrame\n",
        "        target_team (str): 목표 팀 이름\n",
        "        target_rank (int): 목표 순위\n",
        "        additional_wins (int): 추가 승리 횟수\n",
        "        num_simulations (int): 시뮬레이션 횟수\n",
        "\n",
        "    Returns:\n",
        "        float: 시뮬레이션 결과 평균 순위\n",
        "    \"\"\"\n",
        "\n",
        "    def predict_match(team1_strength, team2_strength):\n",
        "        # 더 정교한 예측 모델 구현 (예: Elo Rating, 확률 기반 모델)\n",
        "        # 여기서는 간단히 강한 팀이 이길 확률을 높이는 예시\n",
        "        win_prob = team1_strength / (team1_strength + team2_strength)\n",
        "        return np.random.choice(['win', 'loss', 'draw'], p=[win_prob, 1 - win_prob, 0])\n",
        "\n",
        "    def calculate_points(wins, draws):\n",
        "        return wins * 3 + draws\n",
        "\n",
        "    def calculate_rank(teams):\n",
        "        teams['points'] = teams.apply(lambda x: calculate_points(x['wins'], x['draws']), axis=1)\n",
        "        teams['goal_diff'] = teams['goals_for'] - teams['goals_against']\n",
        "        teams = teams.sort_values(['points', 'goal_diff'], ascending=False)\n",
        "        teams['rank'] = range(1, len(teams) + 1)\n",
        "        return teams\n",
        "\n",
        "    results = []\n",
        "    for _ in range(num_simulations):\n",
        "        sim_teams = teams.copy()\n",
        "        sim_teams.loc[sim_teams['team'] == target_team, 'wins'] += additional_wins\n",
        "\n",
        "        # ... (기존 코드와 동일)\n",
        "\n",
        "        sim_teams = calculate_rank(sim_teams)\n",
        "        results.append(sim_teams[sim_teams['team'] == target_team]['rank'].values[0])\n",
        "\n",
        "    return np.mean(results)\n",
        "\n",
        "# 팀 데이터 (골 득실 추가)\n",
        "teams = pd.DataFrame({'team': ['A', 'B', 'C', 'D', 'E', 'F', 'G'],\n",
        "                      'wins': [3, 3, 1, 2, 4, 5, 4],\n",
        "                      'losses': [2, 2, 5, 2, 1, 0, 1],\n",
        "                      'draws': [1, 1, 0, 2, 1, 1, 1],\n",
        "                      'goals_for': [15, 20, 10, 8, 6, 3, 0],\n",
        "                      'goals_against': [12, 15, 18, 10, 20, 30, 7]})\n",
        "\n",
        "# 예시 실행\n",
        "team = 'C'\n",
        "rank = 3\n",
        "additional_win = 5\n",
        "result = simulate_league(teams, team, rank, additional_win)\n",
        "print(f\"{team} 팀이 {additional_win}승 추가 시 평균 순위: {result}\")"
      ],
      "metadata": {
        "colab": {
          "base_uri": "https://localhost:8080/"
        },
        "id": "rpH2suXVw3XS",
        "outputId": "8daf2d1c-01ac-473a-92f1-b40c6746950e"
      },
      "execution_count": 15,
      "outputs": [
        {
          "output_type": "stream",
          "name": "stdout",
          "text": [
            "C 팀이 5승 추가 시 평균 순위: 1.0\n"
          ]
        }
      ]
    }
  ]
}