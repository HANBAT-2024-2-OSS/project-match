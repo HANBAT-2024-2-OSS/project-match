{
  "nbformat": 4,
  "nbformat_minor": 0,
  "metadata": {
    "colab": {
      "provenance": []
    },
    "kernelspec": {
      "name": "python3",
      "display_name": "Python 3"
    },
    "language_info": {
      "name": "python"
    }
  },
  "cells": [
    {
      "cell_type": "markdown",
      "source": [
        "프젝트 주제 : 대진표커스텀 및 공식경기 정보 제공 서비스\n",
        "\n",
        "백엔드(3명)\n",
        "1. 로그인, 회원가입 기능\n",
        "로그인 페이지에서 회원가입창으로 이동\n",
        "회원가입 방식은 email에 숫자코드를 보내는 방식\n",
        "회원정보들은 관리자 페이지에서 정리된 값으로 확인\n",
        "관리자 페이지로 가는 관리자 로그인 정보를 따로 분류해주세요\n",
        "\n",
        "2. 경기일정, 경기결과를 받아오는 기능\n",
        "구글 혹은 특정 경기 사이트에서  공식경기정보(결과,일정)를 확인이 가능합니다.\n",
        "웹스크래핑 기능으로 데이터 받아오는 기능 구현(일정=달력형태, 결과=따로 적용할곳 미지정) 경기결과를 받아와서 적용 하면 경기일정에 결과값이 적용되게 하기\n",
        "\n",
        "3. **리그형식 경기 경우의 수 분석**\n",
        "리그경기 월드컵리그, 야구와 축구 리그전에서 특정 순위 안으로 들어가려면\n",
        "특정팀이 몇번 이겨야 하는지 다른 팀들은 경기 결과에 어떻게 나와야 하는지\n",
        "보여주는 기능\n",
        "\n",
        "(프론트2명)\n",
        "4. 웹사이트 디자인 및 대진표 커스텀 기능\n",
        "==== 1번 기능 로그인을 통해서 커스텀 기능이 가능하게하여 대진표를 직접 만들게 할것입니다.\n",
        "==== 2번 기능은 사설로 만드는 대진표는 웹스크래핑 기능을 할수 없다.(경기 결과를 따로 직접 넣어야합니다.)\n",
        "==== 3번 기능을 적용\n",
        "==== 이외의 사이트의 모든 디자인\n",
        "\n",
        "5. 대진방식은 우선적으로 **토너먼트와 리그전 형식**을 우선적으로 만들고 남는 시간에 따라서 다른 방식도 추가할 예정입니다. 대진표 커스텀 형식은 기본적으로 로그인 없이\n",
        "만들수 있게 할지  미정 추가적으로 로그인시 본인이 응원하는 팀들의 공식경기들을 정리해주는 기능을 넣을지 앞서 4번까지가 모두 구현되었을 때 토론"
      ],
      "metadata": {
        "id": "UL-ShJAmpxHu"
      }
    },
    {
      "cell_type": "code",
      "source": [
        "#Gemini 활용한 예시 코드\n",
        "\n",
        "# 예시 코드 (Python)\n",
        "import itertools\n",
        "class LeagueSimulator:\n",
        "    def __init__(self, teams, matches):\n",
        "        self.teams = teams  # 팀 목록\n",
        "        self.matches = matches  # 경기 목록 (팀1, 팀2)\n",
        "        self.results = []  # 모든 가능한 결과 저장\n",
        "\n",
        "    def simulate(self):\n",
        "        # 모든 가능한 경기 결과 생성 (조합)\n",
        "        for result in itertools.product([0, 1, 2], repeat=len(self.matches)):  # 0: 패, 1: 무, 2: 승\n",
        "            # 각 결과에 대해 시뮬레이션 진행\n",
        "            self.simulate_match(result)\n",
        "\n",
        "    def simulate_match(self, result):\n",
        "        # 결과에 따라 각 팀의 승점 계산\n",
        "        # ...\n",
        "\n",
        "        # 최종 순위 계산\n",
        "        # ...\n",
        "\n",
        "        # 특정 팀의 순위 확인 및 저장\n",
        "        # ...\n",
        "        return\n",
        "\n",
        "    def get_possibilities(self, target_team, target_rank):\n",
        "        # 특정 팀이 특정 순위에 들 수 있는 모든 경우의 수 반환\n",
        "        # ...\n",
        "        return"
      ],
      "metadata": {
        "id": "xG0s4j-LSyVz"
      },
      "execution_count": null,
      "outputs": []
    },
    {
      "cell_type": "code",
      "source": [],
      "metadata": {
        "id": "OIcej1bdSyTm"
      },
      "execution_count": null,
      "outputs": []
    },
    {
      "cell_type": "code",
      "source": [],
      "metadata": {
        "id": "ufRZ1S2Iam50"
      },
      "execution_count": null,
      "outputs": []
    },
    {
      "cell_type": "markdown",
      "source": [
        "3번의 리그형식 경기 경우의 수 분석\n",
        "\n",
        "리그 경기에서 특정 순위 안으로 들어가려면 특정팀이 몇번 이겨야 하는지 다른 팀들은 경기 결과에 어떻게 나와야 하는지 보여주는 기능\n",
        "\n",
        "------------------\n",
        "구현중"
      ],
      "metadata": {
        "id": "kTvOuQfUXXwQ"
      }
    },
    {
      "cell_type": "code",
      "source": [
        "#본 프로그램 설계\n",
        "\n",
        "#팀 클래스\n",
        "class Team:\n",
        "    def __init__(self, name):\n",
        "        self.name = name #팀 이름\n",
        "        self.points = 0 #리그 점수\n",
        "        self.wins = 0 #승 횟수\n",
        "        self.draws = 0 #무 횟수\n",
        "        self.losses = 0 #패 횟수\n",
        "\n",
        "#매치 클래스\n",
        "class Match:\n",
        "    def __init__(self, team1, team2):\n",
        "        self.team1 = team1 #이 경기의 첫팀\n",
        "        self.team2 = team2 #이 경기의 둘째팀\n",
        "        self.result = None  # 0: 패, 1: 무, 2: 승\n",
        "\n",
        "#리그 클래스\n",
        "class League:\n",
        "    def __init__(self, teams, matches):\n",
        "        self.teams = teams #팀들\n",
        "        self.matches = matches #경기들\n",
        "\n",
        "\n",
        "#리그 시뮬레이션??(보류)\n",
        "import itertools\n",
        "def simulate_league(league):\n",
        "    for result in itertools.product([0, 1, 2], repeat=len(league.matches)):\n",
        "        for i, mat in enumerate(league.matches):\n",
        "            mat.result = result[i]\n",
        "\n",
        "        # 각 경기 결과에 따라 팀의 승점, 패/무/승 갱신\n",
        "        for mat in league.matches:\n",
        "            if mat.result == 0:\n",
        "                mat.team1.losses += 1\n",
        "                mat.team2.wins += 1\n",
        "                mat.team2.points += 3\n",
        "            elif mat.result == 1:\n",
        "                mat.team1.draws += 1\n",
        "                mat.team2.draws += 1\n",
        "                mat.team1.points += 1\n",
        "                mat.team2.points += 1\n",
        "            else:\n",
        "                mat.team1.wins += 1\n",
        "                mat.team2.losses += 1\n",
        "                mat.team1.points += 3\n",
        "\n",
        "        # 팀들을 승점순으로 정렬\n",
        "        league.teams.sort(key=lambda x: (-x.points, -x.wins), reverse=True)\n",
        "\n",
        "        # 특정 팀의 순위 확인 및 저장 (여기에 원하는 로직 추가)\n",
        "        # ...\n",
        "\n",
        "\n",
        "#매치 진행 한번씩 / 리그, 결과와 매치를 인수로 받음\n",
        "def League_progress(league, result, mat):\n",
        "    '''0 = lose, 1 = draw, 2 = win'''\n",
        "    if result not in [0,1,2]:\n",
        "        print(\"result = 0 or 1 or 2\")\n",
        "        return\n",
        "    mat.result = result\n",
        "    if mat.result == 0:\n",
        "        mat.team1.losses += 1\n",
        "        mat.team2.wins += 1\n",
        "        mat.team2.points += 3\n",
        "    elif mat.result == 1:\n",
        "        mat.team1.draws += 1\n",
        "        mat.team2.draws += 1\n",
        "        mat.team1.points += 1\n",
        "        mat.team2.points += 1\n",
        "    elif mat.result == 2:\n",
        "        mat.team1.wins += 1\n",
        "        mat.team2.losses += 1\n",
        "        mat.team1.points += 3\n",
        "\n",
        "    #현재 점수 순으로 정렬\n",
        "    league.teams.sort(key=lambda x: (-x.points, -x.wins), reverse=True)\n",
        "\n",
        "\n",
        "# 결과 출력 / 리그와 팀 이름을 인수로 받아 해당 팀의 순위를 알려줌\n",
        "def get_team_rank(league, team_name):\n",
        "    for i, team in enumerate(league.teams):\n",
        "        if team.name == team_name:\n",
        "            return i + 1 #있으면 등수\n",
        "    return -1 #없으면 -1\n",
        "\n",
        "#팀 이름 리스트를 받아서 리그생성\n",
        "def make_league(teamNames):\n",
        "    teams = [None for i in range(len(teamNames))]\n",
        "    for i, name in enumerate(teamNames):\n",
        "        team = Team(name)\n",
        "        teams[i] = team\n",
        "\n",
        "    for i in teams:\n",
        "        print(i.name)\n",
        "\n",
        "    combteams = list(itertools.combinations(teams, 2))\n",
        "    for i in combteams:\n",
        "        print(i[0].name, i[1].name)\n",
        "\n",
        "    matches = [None for i in range(len(combteams))]\n",
        "    for i, enu in enumerate(combteams):\n",
        "        mat = Match(enu[0], enu[1])\n",
        "        matches[i] = mat\n",
        "\n",
        "    return League(teams, matches)"
      ],
      "metadata": {
        "id": "C2CtZ6s8VZP6"
      },
      "execution_count": 25,
      "outputs": []
    },
    {
      "cell_type": "code",
      "source": [
        "# 가상의 리그 데이터\n",
        "teams = [Team(\"A\"), Team(\"B\"), Team(\"C\")]\n",
        "matches = [Match(teams[0], teams[1]), Match(teams[1], teams[2]), Match(teams[0], teams[2])]\n",
        "league = League(teams, matches)\n",
        "\n",
        "# A팀의 순위 찾기\n",
        "rank = get_team_rank(league, \"A\")\n",
        "print(rank)\n",
        "\n",
        "# 없는 팀을 찾는 경우\n",
        "rank = get_team_rank(league, \"D\")\n",
        "print(rank)"
      ],
      "metadata": {
        "colab": {
          "base_uri": "https://localhost:8080/"
        },
        "id": "kFLmnWThXXz6",
        "outputId": "5a2a55aa-93d1-4681-9bcf-fa759e56c44f"
      },
      "execution_count": 4,
      "outputs": [
        {
          "output_type": "stream",
          "name": "stdout",
          "text": [
            "1\n",
            "-1\n"
          ]
        }
      ]
    },
    {
      "cell_type": "code",
      "source": [
        "# 작동 테스트\n",
        "\n",
        "teamNames = ['A', 'B', 'C', 'D', 'E']\n",
        "teams = [None for i in range(len(teamNames))]\n",
        "for i, name in enumerate(teamNames):\n",
        "    team = Team(name)\n",
        "    teams[i] = team\n",
        "\n",
        "for i in teams:\n",
        "    print(i.name)\n",
        "\n",
        "combteams = list(itertools.combinations(teams, 2))\n",
        "for i in combteams:\n",
        "    print(i[0].name, i[1].name)\n",
        "\n",
        "matches = [None for i in range(len(combteams))]\n",
        "for i, enu in enumerate(combteams):\n",
        "    mat = Match(enu[0], enu[1])\n",
        "    matches[i] = mat\n",
        "\n",
        "league = League(teams, matches)"
      ],
      "metadata": {
        "colab": {
          "base_uri": "https://localhost:8080/"
        },
        "id": "Xp_pC4RnCSwA",
        "outputId": "fb81cbfa-96bb-4098-8507-bc57c49c9269"
      },
      "execution_count": 26,
      "outputs": [
        {
          "output_type": "stream",
          "name": "stdout",
          "text": [
            "A\n",
            "B\n",
            "C\n",
            "D\n",
            "E\n",
            "A B\n",
            "A C\n",
            "A D\n",
            "A E\n",
            "B C\n",
            "B D\n",
            "B E\n",
            "C D\n",
            "C E\n",
            "D E\n"
          ]
        }
      ]
    },
    {
      "cell_type": "code",
      "source": [
        "make_league(teamNames)"
      ],
      "metadata": {
        "colab": {
          "base_uri": "https://localhost:8080/"
        },
        "id": "LHlB6u7NZX4d",
        "outputId": "5ea6d968-7cf6-4a25-ec7a-b28769ff4979"
      },
      "execution_count": 27,
      "outputs": [
        {
          "output_type": "stream",
          "name": "stdout",
          "text": [
            "A\n",
            "B\n",
            "C\n",
            "D\n",
            "E\n",
            "A B\n",
            "A C\n",
            "A D\n",
            "A E\n",
            "B C\n",
            "B D\n",
            "B E\n",
            "C D\n",
            "C E\n",
            "D E\n"
          ]
        },
        {
          "output_type": "execute_result",
          "data": {
            "text/plain": [
              "<__main__.League at 0x7e546c6c96c0>"
            ]
          },
          "metadata": {},
          "execution_count": 27
        }
      ]
    },
    {
      "cell_type": "code",
      "source": [
        "print(matches[0].team1.name, matches[0].team2.name, matches[0].result)"
      ],
      "metadata": {
        "colab": {
          "base_uri": "https://localhost:8080/"
        },
        "id": "gq9c1A-4FQ3j",
        "outputId": "6fa791af-efed-48a5-9311-2b68010931de"
      },
      "execution_count": 13,
      "outputs": [
        {
          "output_type": "stream",
          "name": "stdout",
          "text": [
            "A B None\n"
          ]
        }
      ]
    },
    {
      "cell_type": "code",
      "source": [],
      "metadata": {
        "id": "OZ6-Mhh2KqOv"
      },
      "execution_count": null,
      "outputs": []
    },
    {
      "cell_type": "code",
      "source": [
        "# 추가적인 방안\n",
        "\n",
        "class Team:\n",
        "    def __init__(self, name, win, draw, lose, goal_for, goal_against):\n",
        "        self.name = name\n",
        "        self.win = win\n",
        "        self.draw = draw\n",
        "        self.lose = lose\n",
        "        self.goal_for = goal_for\n",
        "        self.goal_against = goal_against\n",
        "\n",
        "    def points(self):\n",
        "        return self.win * 3 + self.draw\n",
        "\n",
        "    def goal_diff(self):\n",
        "        return self.goal_for - self.goal_against\n",
        "\n",
        "teams = [\n",
        "    Team(\"A팀\", 5, 2, 3, 20, 10),\n",
        "    Team(\"B팀\", 4, 3, 3, 15, 12),\n",
        "    # ...\n",
        "]\n",
        "\n",
        "# 순위 계산 (간단한 예시)\n",
        "def sort_teams(teams):\n",
        "    return sorted(teams, key=lambda x: (-x.points(), -x.goal_diff()))\n",
        "\n",
        "# 순위 출력\n",
        "sorted_teams = sort_teams(teams)\n",
        "for i, team in enumerate(sorted_teams, start=1):\n",
        "    print(f\"{i}위: {team.name}, 승점: {team.points()}, 골득실: {team.goal_diff()}\")"
      ],
      "metadata": {
        "id": "r0ihj6oYOfL6"
      },
      "execution_count": null,
      "outputs": []
    },
    {
      "cell_type": "code",
      "source": [
        "# 경우의 수 반환\n",
        "\n",
        "from itertools import product\n",
        "\n",
        "def get_possibilities(self, target_team, target_rank):\n",
        "    # 각 팀의 승, 무, 패를 나타내는 튜플 리스트 생성 (예시)\n",
        "    match_results = [(0, 1, 0), (1, 0, 0), (0, 0, 1)]\n",
        "\n",
        "    # 모든 가능한 경기 결과 조합 생성\n",
        "    all_possibilities = product(match_results, repeat=len(self.teams))\n",
        "\n",
        "    # 목표 팀이 목표 순위에 들 수 있는 경우의 수\n",
        "    count = 0\n",
        "\n",
        "    for possibility in all_possibilities:\n",
        "        # 각 시나리오별 팀 점수 계산\n",
        "        team_scores = [sum(result) for result in possibility]\n",
        "\n",
        "        # 팀 점수를 기반으로 순위 계산\n",
        "        sorted_teams = sorted(zip(self.teams, team_scores), key=lambda x: x[1], reverse=True)\n",
        "\n",
        "        # 목표 팀의 순위 확인\n",
        "        for i, (team, score) in enumerate(sorted_teams):\n",
        "            if team == target_team:\n",
        "                if i + 1 == target_rank:\n",
        "                    count += 1\n",
        "                break\n",
        "\n",
        "    return count"
      ],
      "metadata": {
        "id": "WGV75vmpO8fF"
      },
      "execution_count": null,
      "outputs": []
    },
    {
      "cell_type": "code",
      "source": [],
      "metadata": {
        "id": "HYL9b85aO8ZZ"
      },
      "execution_count": null,
      "outputs": []
    }
  ]
}